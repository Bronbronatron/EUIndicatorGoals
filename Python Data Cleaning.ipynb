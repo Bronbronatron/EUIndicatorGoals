{
 "cells": [
  {
   "cell_type": "code",
   "execution_count": null,
   "id": "10f613a8-8ee6-4255-b6c5-b326d185f240",
   "metadata": {},
   "outputs": [],
   "source": []
  },
  {
   "cell_type": "code",
   "execution_count": 3,
   "id": "5b1954f7-9da8-4604-b09a-dc5c24a04b45",
   "metadata": {},
   "outputs": [
    {
     "name": "stdout",
     "output_type": "stream",
     "text": [
      "    seriescode                                  seriesdescription  \\\n",
      "0  AG_LND_FRST  Forest area as a proportion of total land area...   \n",
      "1  AG_LND_FRST  Forest area as a proportion of total land area...   \n",
      "2  AG_LND_FRST  Forest area as a proportion of total land area...   \n",
      "3  AG_LND_FRST  Forest area as a proportion of total land area...   \n",
      "4  AG_LND_FRST  Forest area as a proportion of total land area...   \n",
      "\n",
      "   geoareacode             geoareaname  timeperiod  value  time_detail  \\\n",
      "0            4             Afghanistan        2000   2.07         2000   \n",
      "1          860              Uzbekistan        2000   7.55         2000   \n",
      "2           92  British Virgin Islands        2000  24.47         2000   \n",
      "3           15         Northern Africa        2000   3.84         2000   \n",
      "4          356                   India        2000  21.99         2000   \n",
      "\n",
      "                                              source nature    units  \n",
      "0                                       FAO Estimate      E  PERCENT  \n",
      "1             Official country data submitted to FAO      C  PERCENT  \n",
      "2                                       FAO Estimate      E  PERCENT  \n",
      "3  FAO, Global Forest Resources Assessment and FA...    NaN  PERCENT  \n",
      "4             Official country data submitted to FAO      C  PERCENT  \n"
     ]
    }
   ],
   "source": [
    "\n",
    " #Import panda library\n",
    "import pandas as pd\n",
    "\n",
    " #Read csv files and stores as panda dataframes \n",
    "df_11 = pd.read_csv(r'C:\\Users\\bronw\\OneDrive\\Desktop\\Hello\\table_11.csv')\n",
    "  \n",
    "df_13 = pd.read_csv(r'C:\\Users\\bronw\\OneDrive\\Desktop\\Hello\\table_13.csv')\n",
    "                     \n",
    "df_14 = pd.read_csv(r'C:\\Users\\bronw\\OneDrive\\Desktop\\Hello\\table_14.csv')\n",
    "\n",
    "df_15 = pd.read_csv(r'C:\\Users\\bronw\\OneDrive\\Desktop\\Hello\\table_15.csv')\n",
    "\n",
    "print(df_15.head())\n"
   ]
  },
  {
   "cell_type": "code",
   "execution_count": null,
   "id": "e52298b3-065a-4eff-9892-12c23ee60b15",
   "metadata": {},
   "outputs": [],
   "source": [
    "#See quick preview of data\n",
    "print(df_13).head() "
   ]
  },
  {
   "cell_type": "code",
   "execution_count": 4,
   "id": "f97bdc34-98ca-4b9d-aca9-fed867e764d1",
   "metadata": {},
   "outputs": [
    {
     "name": "stdout",
     "output_type": "stream",
     "text": [
      "    seriescode                                  seriesdescription  \\\n",
      "0  AG_LND_FRST  Forest area as a proportion of total land area...   \n",
      "1  AG_LND_FRST  Forest area as a proportion of total land area...   \n",
      "2  AG_LND_FRST  Forest area as a proportion of total land area...   \n",
      "3  AG_LND_FRST  Forest area as a proportion of total land area...   \n",
      "4  AG_LND_FRST  Forest area as a proportion of total land area...   \n",
      "\n",
      "   geoareacode             geoareaname  timeperiod  value  \n",
      "0            4             Afghanistan        2000   2.07  \n",
      "1          860              Uzbekistan        2000   7.55  \n",
      "2           92  British Virgin Islands        2000  24.47  \n",
      "3           15         Northern Africa        2000   3.84  \n",
      "4          356                   India        2000  21.99  \n"
     ]
    }
   ],
   "source": [
    "#Removes the unnneeded columns, save in new variable \n",
    "df_15_cleaned = df_15.drop([\"time_detail\", \"source\", \"nature\", \"units\"], axis = 1) \n",
    "\n",
    "print(df_15_cleaned.head())\n",
    "\n"
   ]
  },
  {
   "cell_type": "code",
   "execution_count": 11,
   "id": "e60cc85c-8430-471e-91c8-4fda40d00f26",
   "metadata": {},
   "outputs": [],
   "source": [
    "#Check names of countries\n",
    " print(df_15_cleaned[\"geoareaname\"].unique())"
   ]
  },
  {
   "cell_type": "code",
   "execution_count": null,
   "id": "0bc828f0-eb05-4a24-b794-3407dcc1feb9",
   "metadata": {},
   "outputs": [],
   "source": []
  },
  {
   "cell_type": "code",
   "execution_count": 6,
   "id": "99525b37-0b69-4289-b367-fce7eadae6f9",
   "metadata": {},
   "outputs": [],
   "source": [
    "#Change name of country for better readability \n",
    "df_15_cleaned[\"geoareaname\"] = df_15_cleaned[\"geoareaname\"].replace(['Viet Nam'], 'Vietnam')"
   ]
  },
  {
   "cell_type": "code",
   "execution_count": 10,
   "id": "aa8549c1-28a2-4834-a798-23019baeefc2",
   "metadata": {},
   "outputs": [],
   "source": [
    " # print(df_15_cleaned[\"geoareaname\"].unique())"
   ]
  },
  {
   "cell_type": "code",
   "execution_count": 12,
   "id": "36f7f9f1-7f13-44a7-b7e9-407c1671175d",
   "metadata": {},
   "outputs": [
    {
     "name": "stdout",
     "output_type": "stream",
     "text": [
      "    seriescode                                  seriesdescription  \\\n",
      "0  AG_LND_FRST  Forest area as a proportion of total land area...   \n",
      "1  AG_LND_FRST  Forest area as a proportion of total land area...   \n",
      "2  AG_LND_FRST  Forest area as a proportion of total land area...   \n",
      "3  AG_LND_FRST  Forest area as a proportion of total land area...   \n",
      "4  AG_LND_FRST  Forest area as a proportion of total land area...   \n",
      "\n",
      "   geoareacode             geoareaname  timeperiod  value  \n",
      "0            4             Afghanistan        2000   2.07  \n",
      "1          860              Uzbekistan        2000   7.55  \n",
      "2           92  British Virgin Islands        2000  24.47  \n",
      "3           15         Northern Africa        2000   3.84  \n",
      "4          356                   India        2000  21.99  \n"
     ]
    }
   ],
   "source": [
    "#See quick preview of data\n",
    "print(df_15_cleaned.head())"
   ]
  },
  {
   "cell_type": "code",
   "execution_count": 14,
   "id": "d298638e-0d3b-40c5-8227-e61796fa90ce",
   "metadata": {},
   "outputs": [],
   "source": [
    "#Change Column names for better readability \n",
    "\n",
    "df_15_cleaned.rename(columns={'seriescode': 'Code', 'seriesdescription': 'Description', 'geoareacode': 'Geo_code', 'geoareaname': 'Counrty/region', 'timeperiod': 'year'}, inplace=True)"
   ]
  },
  {
   "cell_type": "code",
   "execution_count": 15,
   "id": "429241cd-c232-4a92-b1e2-61d84016ce52",
   "metadata": {},
   "outputs": [
    {
     "name": "stdout",
     "output_type": "stream",
     "text": [
      "          Code                                        Description  Geo_code  \\\n",
      "0  AG_LND_FRST  Forest area as a proportion of total land area...         4   \n",
      "1  AG_LND_FRST  Forest area as a proportion of total land area...       860   \n",
      "2  AG_LND_FRST  Forest area as a proportion of total land area...        92   \n",
      "3  AG_LND_FRST  Forest area as a proportion of total land area...        15   \n",
      "4  AG_LND_FRST  Forest area as a proportion of total land area...       356   \n",
      "\n",
      "           Counrty/region  year  value  \n",
      "0             Afghanistan  2000   2.07  \n",
      "1              Uzbekistan  2000   7.55  \n",
      "2  British Virgin Islands  2000  24.47  \n",
      "3         Northern Africa  2000   3.84  \n",
      "4                   India  2000  21.99  \n"
     ]
    }
   ],
   "source": [
    "#See quick preview of data\n",
    "print(df_15_cleaned.head())"
   ]
  },
  {
   "cell_type": "code",
   "execution_count": 17,
   "id": "d2048612-4415-4de2-ba6b-79c9db4d7ac5",
   "metadata": {},
   "outputs": [],
   "source": [
    "df_15_cleaned.rename(columns={'year': 'Year', 'value': 'Value'}, inplace=True)"
   ]
  },
  {
   "cell_type": "code",
   "execution_count": 20,
   "id": "ab7ff0e0-3c5f-4245-af92-ee96f841e8c5",
   "metadata": {},
   "outputs": [
    {
     "name": "stdout",
     "output_type": "stream",
     "text": [
      "<class 'pandas.core.frame.DataFrame'>\n",
      "RangeIndex: 1116 entries, 0 to 1115\n",
      "Data columns (total 6 columns):\n",
      " #   Column          Non-Null Count  Dtype  \n",
      "---  ------          --------------  -----  \n",
      " 0   Code            1116 non-null   object \n",
      " 1   Description     1116 non-null   object \n",
      " 2   Geo_code        1116 non-null   int64  \n",
      " 3   Counrty/region  1116 non-null   object \n",
      " 4   Year            1116 non-null   int64  \n",
      " 5   Value           1116 non-null   float64\n",
      "dtypes: float64(1), int64(2), object(3)\n",
      "memory usage: 52.4+ KB\n"
     ]
    }
   ],
   "source": [
    "#Check data types and missing values \n",
    "df_15_cleaned.info()"
   ]
  },
  {
   "cell_type": "code",
   "execution_count": 19,
   "id": "9aa28385-7301-431b-950f-c1fbf055f9d1",
   "metadata": {},
   "outputs": [],
   "source": [
    "#Store cleaned data in folder to be used in Tableau Visualisation \n",
    "df_15_cleaned.to_csv(r'C:\\Users\\bronw\\OneDrive\\Desktop\\cleaned_tables\\df_15_cleaned.csv', index = False)\n"
   ]
  },
  {
   "cell_type": "code",
   "execution_count": 23,
   "id": "454dde4b-a645-4f90-9399-0c8ce1ae7f8c",
   "metadata": {},
   "outputs": [
    {
     "data": {
      "text/html": [
       "<div>\n",
       "<style scoped>\n",
       "    .dataframe tbody tr th:only-of-type {\n",
       "        vertical-align: middle;\n",
       "    }\n",
       "\n",
       "    .dataframe tbody tr th {\n",
       "        vertical-align: top;\n",
       "    }\n",
       "\n",
       "    .dataframe thead th {\n",
       "        text-align: right;\n",
       "    }\n",
       "</style>\n",
       "<table border=\"1\" class=\"dataframe\">\n",
       "  <thead>\n",
       "    <tr style=\"text-align: right;\">\n",
       "      <th></th>\n",
       "      <th>seriescode</th>\n",
       "      <th>seriesdescription</th>\n",
       "      <th>geoareacode</th>\n",
       "      <th>geoareaname</th>\n",
       "      <th>timeperiod</th>\n",
       "      <th>value</th>\n",
       "    </tr>\n",
       "  </thead>\n",
       "  <tbody>\n",
       "    <tr>\n",
       "      <th>0</th>\n",
       "      <td>VC_DSR_MISS</td>\n",
       "      <td>Number of missing persons due to disaster (num...</td>\n",
       "      <td>768</td>\n",
       "      <td>Togo</td>\n",
       "      <td>2005</td>\n",
       "      <td>0</td>\n",
       "    </tr>\n",
       "    <tr>\n",
       "      <th>1</th>\n",
       "      <td>VC_DSR_MISS</td>\n",
       "      <td>Number of missing persons due to disaster (num...</td>\n",
       "      <td>417</td>\n",
       "      <td>Kyrgyzstan</td>\n",
       "      <td>2005</td>\n",
       "      <td>0</td>\n",
       "    </tr>\n",
       "    <tr>\n",
       "      <th>2</th>\n",
       "      <td>VC_DSR_MISS</td>\n",
       "      <td>Number of missing persons due to disaster (num...</td>\n",
       "      <td>854</td>\n",
       "      <td>Burkina Faso</td>\n",
       "      <td>2005</td>\n",
       "      <td>0</td>\n",
       "    </tr>\n",
       "    <tr>\n",
       "      <th>3</th>\n",
       "      <td>VC_DSR_MISS</td>\n",
       "      <td>Number of missing persons due to disaster (num...</td>\n",
       "      <td>218</td>\n",
       "      <td>Ecuador</td>\n",
       "      <td>2005</td>\n",
       "      <td>4</td>\n",
       "    </tr>\n",
       "    <tr>\n",
       "      <th>4</th>\n",
       "      <td>VC_DSR_MISS</td>\n",
       "      <td>Number of missing persons due to disaster (num...</td>\n",
       "      <td>388</td>\n",
       "      <td>Jamaica</td>\n",
       "      <td>2005</td>\n",
       "      <td>0</td>\n",
       "    </tr>\n",
       "  </tbody>\n",
       "</table>\n",
       "</div>"
      ],
      "text/plain": [
       "    seriescode                                  seriesdescription  \\\n",
       "0  VC_DSR_MISS  Number of missing persons due to disaster (num...   \n",
       "1  VC_DSR_MISS  Number of missing persons due to disaster (num...   \n",
       "2  VC_DSR_MISS  Number of missing persons due to disaster (num...   \n",
       "3  VC_DSR_MISS  Number of missing persons due to disaster (num...   \n",
       "4  VC_DSR_MISS  Number of missing persons due to disaster (num...   \n",
       "\n",
       "   geoareacode   geoareaname  timeperiod  value  \n",
       "0          768          Togo        2005      0  \n",
       "1          417    Kyrgyzstan        2005      0  \n",
       "2          854  Burkina Faso        2005      0  \n",
       "3          218       Ecuador        2005      4  \n",
       "4          388       Jamaica        2005      0  "
      ]
     },
     "execution_count": 23,
     "metadata": {},
     "output_type": "execute_result"
    }
   ],
   "source": [
    "#Removes the unnneeded columns, save in new variable \n",
    "df_13_cleaned = df_13.drop([\"goal\", \"target\", \"indicator\", \"time_detail\", \"nature\", \"units\"], axis = 1) \n",
    "\n",
    "#See quick preview of data\n",
    "df_13_cleaned.head()\n",
    "\n"
   ]
  },
  {
   "cell_type": "code",
   "execution_count": null,
   "id": "51bb1593-277c-4419-9321-8605c74b73d8",
   "metadata": {},
   "outputs": [],
   "source": [
    "#Change Column names for better readability \n",
    "df_13_cleaned.rename(columns={'seriescode': 'Code', 'seriesdescription': 'Description', 'geoareacode': 'Geo_code', 'geoareaname': 'Counrty/region', 'timeperiod': 'Year', \"value\": \"Value\" }, inplace=True)"
   ]
  },
  {
   "cell_type": "code",
   "execution_count": null,
   "id": "3b676ad1-c2ee-40a5-83c7-e6e5dc630b59",
   "metadata": {},
   "outputs": [],
   "source": [
    "#Change name of country for better readability \n",
    "df_13_cleaned[\"Counrty/region\"] = df_13_cleaned[\"Counrty/region\"].replace(['Viet Nam'], 'Vietnam')"
   ]
  },
  {
   "cell_type": "code",
   "execution_count": 32,
   "id": "6696789d-bd01-4507-83a8-3727d147d989",
   "metadata": {},
   "outputs": [],
   "source": [
    "#See quick preview of data\n",
    "df_13_cleaned.head()\n",
    "#Store cleaned data in folder to be used in Tableau Visualisation \n",
    "df_13_cleaned.to_csv(r'C:\\Users\\bronw\\OneDrive\\Desktop\\cleaned_tables\\df_13_cleaned.csv', index = False)"
   ]
  },
  {
   "cell_type": "code",
   "execution_count": 35,
   "id": "5d436cf9-2030-4686-a9b1-4cc67ebf2a4f",
   "metadata": {},
   "outputs": [
    {
     "data": {
      "text/html": [
       "<div>\n",
       "<style scoped>\n",
       "    .dataframe tbody tr th:only-of-type {\n",
       "        vertical-align: middle;\n",
       "    }\n",
       "\n",
       "    .dataframe tbody tr th {\n",
       "        vertical-align: top;\n",
       "    }\n",
       "\n",
       "    .dataframe thead th {\n",
       "        text-align: right;\n",
       "    }\n",
       "</style>\n",
       "<table border=\"1\" class=\"dataframe\">\n",
       "  <thead>\n",
       "    <tr style=\"text-align: right;\">\n",
       "      <th></th>\n",
       "      <th>goal</th>\n",
       "      <th>target</th>\n",
       "      <th>indicator</th>\n",
       "      <th>seriescode</th>\n",
       "      <th>seriesdescription</th>\n",
       "      <th>geoareacode</th>\n",
       "      <th>geoareaname</th>\n",
       "      <th>timeperiod</th>\n",
       "      <th>value</th>\n",
       "      <th>time_detail</th>\n",
       "      <th>freq</th>\n",
       "      <th>units</th>\n",
       "    </tr>\n",
       "  </thead>\n",
       "  <tbody>\n",
       "    <tr>\n",
       "      <th>0</th>\n",
       "      <td>14</td>\n",
       "      <td>14.4</td>\n",
       "      <td>14.4.1</td>\n",
       "      <td>ER_H2O_FWTL</td>\n",
       "      <td>Proportion of fish stocks within biologically ...</td>\n",
       "      <td>1</td>\n",
       "      <td>World</td>\n",
       "      <td>2006</td>\n",
       "      <td>72.032189</td>\n",
       "      <td>2006</td>\n",
       "      <td>ANNUAL</td>\n",
       "      <td>PERCENT</td>\n",
       "    </tr>\n",
       "    <tr>\n",
       "      <th>1</th>\n",
       "      <td>14</td>\n",
       "      <td>14.4</td>\n",
       "      <td>14.4.1</td>\n",
       "      <td>ER_H2O_FWTL</td>\n",
       "      <td>Proportion of fish stocks within biologically ...</td>\n",
       "      <td>1</td>\n",
       "      <td>World</td>\n",
       "      <td>2009</td>\n",
       "      <td>70.126578</td>\n",
       "      <td>2009</td>\n",
       "      <td>ANNUAL</td>\n",
       "      <td>PERCENT</td>\n",
       "    </tr>\n",
       "    <tr>\n",
       "      <th>2</th>\n",
       "      <td>14</td>\n",
       "      <td>14.4</td>\n",
       "      <td>14.4.1</td>\n",
       "      <td>ER_H2O_FISHFEXP</td>\n",
       "      <td>Proportion of fish stocks that are fully explo...</td>\n",
       "      <td>1</td>\n",
       "      <td>World</td>\n",
       "      <td>2009</td>\n",
       "      <td>57.468350</td>\n",
       "      <td>2009</td>\n",
       "      <td>ANNUAL</td>\n",
       "      <td>PERCENT</td>\n",
       "    </tr>\n",
       "    <tr>\n",
       "      <th>3</th>\n",
       "      <td>14</td>\n",
       "      <td>14.4</td>\n",
       "      <td>14.4.1</td>\n",
       "      <td>ER_H2O_FISHNFEXP</td>\n",
       "      <td>Proportion of fish stocks that are not fully e...</td>\n",
       "      <td>1</td>\n",
       "      <td>World</td>\n",
       "      <td>2011</td>\n",
       "      <td>9.976247</td>\n",
       "      <td>2011</td>\n",
       "      <td>ANNUAL</td>\n",
       "      <td>PERCENT</td>\n",
       "    </tr>\n",
       "    <tr>\n",
       "      <th>4</th>\n",
       "      <td>14</td>\n",
       "      <td>14.4</td>\n",
       "      <td>14.4.1</td>\n",
       "      <td>ER_H2O_FISHFEXP</td>\n",
       "      <td>Proportion of fish stocks that are fully explo...</td>\n",
       "      <td>1</td>\n",
       "      <td>World</td>\n",
       "      <td>2011</td>\n",
       "      <td>61.282660</td>\n",
       "      <td>2011</td>\n",
       "      <td>ANNUAL</td>\n",
       "      <td>PERCENT</td>\n",
       "    </tr>\n",
       "  </tbody>\n",
       "</table>\n",
       "</div>"
      ],
      "text/plain": [
       "   goal  target indicator        seriescode  \\\n",
       "0    14    14.4    14.4.1       ER_H2O_FWTL   \n",
       "1    14    14.4    14.4.1       ER_H2O_FWTL   \n",
       "2    14    14.4    14.4.1   ER_H2O_FISHFEXP   \n",
       "3    14    14.4    14.4.1  ER_H2O_FISHNFEXP   \n",
       "4    14    14.4    14.4.1   ER_H2O_FISHFEXP   \n",
       "\n",
       "                                   seriesdescription  geoareacode geoareaname  \\\n",
       "0  Proportion of fish stocks within biologically ...            1       World   \n",
       "1  Proportion of fish stocks within biologically ...            1       World   \n",
       "2  Proportion of fish stocks that are fully explo...            1       World   \n",
       "3  Proportion of fish stocks that are not fully e...            1       World   \n",
       "4  Proportion of fish stocks that are fully explo...            1       World   \n",
       "\n",
       "   timeperiod      value  time_detail    freq    units  \n",
       "0        2006  72.032189         2006  ANNUAL  PERCENT  \n",
       "1        2009  70.126578         2009  ANNUAL  PERCENT  \n",
       "2        2009  57.468350         2009  ANNUAL  PERCENT  \n",
       "3        2011   9.976247         2011  ANNUAL  PERCENT  \n",
       "4        2011  61.282660         2011  ANNUAL  PERCENT  "
      ]
     },
     "execution_count": 35,
     "metadata": {},
     "output_type": "execute_result"
    }
   ],
   "source": [
    "#See quick preview of data\n",
    "df_14.head()"
   ]
  },
  {
   "cell_type": "code",
   "execution_count": 38,
   "id": "bd7b2e2c-02b1-4158-9375-fa9622ce7680",
   "metadata": {},
   "outputs": [],
   "source": [
    "#Removes the unnneeded columns, save in new variable \n",
    "df_14_cleaned = df_14.drop([\"goal\", \"target\", \"indicator\", \"geoareacode\", \"time_detail\", \"freq\", \"units\"], axis = 1) "
   ]
  },
  {
   "cell_type": "code",
   "execution_count": 40,
   "id": "04a0548b-5834-4058-8b4a-2ff0e6ba4818",
   "metadata": {},
   "outputs": [],
   "source": [
    "#Change column names for better readability\n",
    "df_14_cleaned.rename(columns={'seriescode': 'Code', 'seriesdescription': 'Description', 'geoareaname': 'Counrty/region', 'timeperiod': 'Year', \"value\": \"Value\" }, inplace=True)"
   ]
  },
  {
   "cell_type": "code",
   "execution_count": 44,
   "id": "41e2bbd1-aa9e-4552-b35c-3c03a0a9e5e4",
   "metadata": {},
   "outputs": [
    {
     "data": {
      "text/html": [
       "<div>\n",
       "<style scoped>\n",
       "    .dataframe tbody tr th:only-of-type {\n",
       "        vertical-align: middle;\n",
       "    }\n",
       "\n",
       "    .dataframe tbody tr th {\n",
       "        vertical-align: top;\n",
       "    }\n",
       "\n",
       "    .dataframe thead th {\n",
       "        text-align: right;\n",
       "    }\n",
       "</style>\n",
       "<table border=\"1\" class=\"dataframe\">\n",
       "  <thead>\n",
       "    <tr style=\"text-align: right;\">\n",
       "      <th></th>\n",
       "      <th>Code</th>\n",
       "      <th>Description</th>\n",
       "      <th>Counrty/region</th>\n",
       "      <th>Year</th>\n",
       "      <th>Value</th>\n",
       "    </tr>\n",
       "  </thead>\n",
       "  <tbody>\n",
       "    <tr>\n",
       "      <th>0</th>\n",
       "      <td>ER_H2O_FWTL</td>\n",
       "      <td>Proportion of fish stocks within biologically ...</td>\n",
       "      <td>World</td>\n",
       "      <td>2006</td>\n",
       "      <td>72.032189</td>\n",
       "    </tr>\n",
       "    <tr>\n",
       "      <th>1</th>\n",
       "      <td>ER_H2O_FWTL</td>\n",
       "      <td>Proportion of fish stocks within biologically ...</td>\n",
       "      <td>World</td>\n",
       "      <td>2009</td>\n",
       "      <td>70.126578</td>\n",
       "    </tr>\n",
       "    <tr>\n",
       "      <th>2</th>\n",
       "      <td>ER_H2O_FISHFEXP</td>\n",
       "      <td>Proportion of fish stocks that are fully explo...</td>\n",
       "      <td>World</td>\n",
       "      <td>2009</td>\n",
       "      <td>57.468350</td>\n",
       "    </tr>\n",
       "    <tr>\n",
       "      <th>3</th>\n",
       "      <td>ER_H2O_FISHNFEXP</td>\n",
       "      <td>Proportion of fish stocks that are not fully e...</td>\n",
       "      <td>World</td>\n",
       "      <td>2011</td>\n",
       "      <td>9.976247</td>\n",
       "    </tr>\n",
       "    <tr>\n",
       "      <th>4</th>\n",
       "      <td>ER_H2O_FISHFEXP</td>\n",
       "      <td>Proportion of fish stocks that are fully explo...</td>\n",
       "      <td>World</td>\n",
       "      <td>2011</td>\n",
       "      <td>61.282660</td>\n",
       "    </tr>\n",
       "  </tbody>\n",
       "</table>\n",
       "</div>"
      ],
      "text/plain": [
       "               Code                                        Description  \\\n",
       "0       ER_H2O_FWTL  Proportion of fish stocks within biologically ...   \n",
       "1       ER_H2O_FWTL  Proportion of fish stocks within biologically ...   \n",
       "2   ER_H2O_FISHFEXP  Proportion of fish stocks that are fully explo...   \n",
       "3  ER_H2O_FISHNFEXP  Proportion of fish stocks that are not fully e...   \n",
       "4   ER_H2O_FISHFEXP  Proportion of fish stocks that are fully explo...   \n",
       "\n",
       "  Counrty/region  Year      Value  \n",
       "0          World  2006  72.032189  \n",
       "1          World  2009  70.126578  \n",
       "2          World  2009  57.468350  \n",
       "3          World  2011   9.976247  \n",
       "4          World  2011  61.282660  "
      ]
     },
     "execution_count": 44,
     "metadata": {},
     "output_type": "execute_result"
    }
   ],
   "source": [
    "#See quick preview of data\n",
    "df_14_cleaned.head()"
   ]
  },
  {
   "cell_type": "code",
   "execution_count": 43,
   "id": "f17d45a8-dc42-44c1-8849-e64000554693",
   "metadata": {},
   "outputs": [
    {
     "data": {
      "text/html": [
       "<div>\n",
       "<style scoped>\n",
       "    .dataframe tbody tr th:only-of-type {\n",
       "        vertical-align: middle;\n",
       "    }\n",
       "\n",
       "    .dataframe tbody tr th {\n",
       "        vertical-align: top;\n",
       "    }\n",
       "\n",
       "    .dataframe thead th {\n",
       "        text-align: right;\n",
       "    }\n",
       "</style>\n",
       "<table border=\"1\" class=\"dataframe\">\n",
       "  <thead>\n",
       "    <tr style=\"text-align: right;\">\n",
       "      <th></th>\n",
       "      <th>Code</th>\n",
       "      <th>Description</th>\n",
       "      <th>Counrty/region</th>\n",
       "      <th>Year</th>\n",
       "      <th>Value</th>\n",
       "    </tr>\n",
       "  </thead>\n",
       "  <tbody>\n",
       "    <tr>\n",
       "      <th>0</th>\n",
       "      <td>ER_H2O_FWTL</td>\n",
       "      <td>Proportion of fish stocks within biologically ...</td>\n",
       "      <td>World</td>\n",
       "      <td>2006</td>\n",
       "      <td>72.032189</td>\n",
       "    </tr>\n",
       "    <tr>\n",
       "      <th>1</th>\n",
       "      <td>ER_H2O_FWTL</td>\n",
       "      <td>Proportion of fish stocks within biologically ...</td>\n",
       "      <td>World</td>\n",
       "      <td>2009</td>\n",
       "      <td>70.126578</td>\n",
       "    </tr>\n",
       "    <tr>\n",
       "      <th>2</th>\n",
       "      <td>ER_H2O_FISHFEXP</td>\n",
       "      <td>Proportion of fish stocks that are fully explo...</td>\n",
       "      <td>World</td>\n",
       "      <td>2009</td>\n",
       "      <td>57.468350</td>\n",
       "    </tr>\n",
       "    <tr>\n",
       "      <th>3</th>\n",
       "      <td>ER_H2O_FISHNFEXP</td>\n",
       "      <td>Proportion of fish stocks that are not fully e...</td>\n",
       "      <td>World</td>\n",
       "      <td>2011</td>\n",
       "      <td>9.976247</td>\n",
       "    </tr>\n",
       "    <tr>\n",
       "      <th>4</th>\n",
       "      <td>ER_H2O_FISHFEXP</td>\n",
       "      <td>Proportion of fish stocks that are fully explo...</td>\n",
       "      <td>World</td>\n",
       "      <td>2011</td>\n",
       "      <td>61.282660</td>\n",
       "    </tr>\n",
       "  </tbody>\n",
       "</table>\n",
       "</div>"
      ],
      "text/plain": [
       "               Code                                        Description  \\\n",
       "0       ER_H2O_FWTL  Proportion of fish stocks within biologically ...   \n",
       "1       ER_H2O_FWTL  Proportion of fish stocks within biologically ...   \n",
       "2   ER_H2O_FISHFEXP  Proportion of fish stocks that are fully explo...   \n",
       "3  ER_H2O_FISHNFEXP  Proportion of fish stocks that are not fully e...   \n",
       "4   ER_H2O_FISHFEXP  Proportion of fish stocks that are fully explo...   \n",
       "\n",
       "  Counrty/region  Year      Value  \n",
       "0          World  2006  72.032189  \n",
       "1          World  2009  70.126578  \n",
       "2          World  2009  57.468350  \n",
       "3          World  2011   9.976247  \n",
       "4          World  2011  61.282660  "
      ]
     },
     "execution_count": 43,
     "metadata": {},
     "output_type": "execute_result"
    }
   ],
   "source": []
  },
  {
   "cell_type": "code",
   "execution_count": 45,
   "id": "d4d7173f-12c4-442a-8584-f40c31d5bb36",
   "metadata": {},
   "outputs": [],
   "source": [
    "#Store cleaned data in folder to be used in Tableau Visualisation \n",
    "df_14_cleaned.to_csv(r'C:\\Users\\bronw\\OneDrive\\Desktop\\cleaned_tables\\df_14_cleaned.csv', index = False)"
   ]
  },
  {
   "cell_type": "code",
   "execution_count": 54,
   "id": "8722c6ad-ced1-4958-ae59-a5e01c0b3a7c",
   "metadata": {},
   "outputs": [],
   "source": [
    "#df_11.head()"
   ]
  },
  {
   "cell_type": "code",
   "execution_count": 53,
   "id": "01d97ff3-2679-498a-a26c-b4440838e6bc",
   "metadata": {},
   "outputs": [],
   "source": [
    "#Removes the unnneeded columns, save in new variable \n",
    "df_11_cleaned = df_11.drop([\"goal\", \"target\", \"indicator\", \"time_detail\"], axis = 1) "
   ]
  },
  {
   "cell_type": "code",
   "execution_count": 55,
   "id": "98d2c8e4-9b5d-48de-a1e2-216e2d95986b",
   "metadata": {},
   "outputs": [
    {
     "data": {
      "text/html": [
       "<div>\n",
       "<style scoped>\n",
       "    .dataframe tbody tr th:only-of-type {\n",
       "        vertical-align: middle;\n",
       "    }\n",
       "\n",
       "    .dataframe tbody tr th {\n",
       "        vertical-align: top;\n",
       "    }\n",
       "\n",
       "    .dataframe thead th {\n",
       "        text-align: right;\n",
       "    }\n",
       "</style>\n",
       "<table border=\"1\" class=\"dataframe\">\n",
       "  <thead>\n",
       "    <tr style=\"text-align: right;\">\n",
       "      <th></th>\n",
       "      <th>seriescode</th>\n",
       "      <th>seriesdescription</th>\n",
       "      <th>geoareacode</th>\n",
       "      <th>geoareaname</th>\n",
       "      <th>timeperiod</th>\n",
       "      <th>value</th>\n",
       "    </tr>\n",
       "  </thead>\n",
       "  <tbody>\n",
       "    <tr>\n",
       "      <th>0</th>\n",
       "      <td>EN_LND_SLUM</td>\n",
       "      <td>Proportion of urban population living in slums...</td>\n",
       "      <td>50</td>\n",
       "      <td>Bangladesh</td>\n",
       "      <td>2000</td>\n",
       "      <td>77.8</td>\n",
       "    </tr>\n",
       "    <tr>\n",
       "      <th>1</th>\n",
       "      <td>EN_LND_SLUM</td>\n",
       "      <td>Proportion of urban population living in slums...</td>\n",
       "      <td>332</td>\n",
       "      <td>Haiti</td>\n",
       "      <td>2000</td>\n",
       "      <td>93.4</td>\n",
       "    </tr>\n",
       "    <tr>\n",
       "      <th>2</th>\n",
       "      <td>EN_LND_SLUM</td>\n",
       "      <td>Proportion of urban population living in slums...</td>\n",
       "      <td>834</td>\n",
       "      <td>United Republic of Tanzania</td>\n",
       "      <td>2000</td>\n",
       "      <td>70.1</td>\n",
       "    </tr>\n",
       "    <tr>\n",
       "      <th>3</th>\n",
       "      <td>EN_LND_SLUM</td>\n",
       "      <td>Proportion of urban population living in slums...</td>\n",
       "      <td>710</td>\n",
       "      <td>South Africa</td>\n",
       "      <td>2000</td>\n",
       "      <td>33.2</td>\n",
       "    </tr>\n",
       "    <tr>\n",
       "      <th>4</th>\n",
       "      <td>EN_LND_SLUM</td>\n",
       "      <td>Proportion of urban population living in slums...</td>\n",
       "      <td>324</td>\n",
       "      <td>Guinea</td>\n",
       "      <td>2000</td>\n",
       "      <td>57.3</td>\n",
       "    </tr>\n",
       "  </tbody>\n",
       "</table>\n",
       "</div>"
      ],
      "text/plain": [
       "    seriescode                                  seriesdescription  \\\n",
       "0  EN_LND_SLUM  Proportion of urban population living in slums...   \n",
       "1  EN_LND_SLUM  Proportion of urban population living in slums...   \n",
       "2  EN_LND_SLUM  Proportion of urban population living in slums...   \n",
       "3  EN_LND_SLUM  Proportion of urban population living in slums...   \n",
       "4  EN_LND_SLUM  Proportion of urban population living in slums...   \n",
       "\n",
       "   geoareacode                  geoareaname  timeperiod  value  \n",
       "0           50                   Bangladesh        2000   77.8  \n",
       "1          332                        Haiti        2000   93.4  \n",
       "2          834  United Republic of Tanzania        2000   70.1  \n",
       "3          710                 South Africa        2000   33.2  \n",
       "4          324                       Guinea        2000   57.3  "
      ]
     },
     "execution_count": 55,
     "metadata": {},
     "output_type": "execute_result"
    }
   ],
   "source": [
    "#See quick preview of data\n",
    "df_11_cleaned.head()"
   ]
  },
  {
   "cell_type": "code",
   "execution_count": 56,
   "id": "569e002e-e9da-451b-bb40-05fcbc004f9c",
   "metadata": {},
   "outputs": [],
   "source": [
    "#Change column names for better readability\n",
    "df_11_cleaned.rename(columns={'seriescode': 'Code', 'seriesdescription': 'Description', 'geoareacode': 'Geo_code', 'geoareaname': 'Counrty/region', 'timeperiod': 'Year', \"value\": \"Value\" }, inplace=True)"
   ]
  },
  {
   "cell_type": "code",
   "execution_count": 58,
   "id": "cb5a5dc5-866d-430e-ba04-e7ced7d92407",
   "metadata": {},
   "outputs": [],
   "source": [
    "#Store cleaned data in folder to be used in Tableau Visualisation \n",
    "df_11_cleaned.to_csv(r'C:\\Users\\bronw\\OneDrive\\Desktop\\cleaned_tables\\df_11_cleaned.csv', index = False)"
   ]
  },
  {
   "cell_type": "code",
   "execution_count": 63,
   "id": "11d860e8-4610-422f-a985-c058482b5a02",
   "metadata": {},
   "outputs": [],
   "source": [
    " #Read csv file and stores as panda dataframes \n",
    "df_pop = pd.read_csv(r'C:\\Users\\bronw\\OneDrive\\Desktop\\Hello\\world_population.csv')"
   ]
  },
  {
   "cell_type": "code",
   "execution_count": 64,
   "id": "08acf3b6-468c-4cf7-9c23-2f77ba27b82e",
   "metadata": {},
   "outputs": [
    {
     "name": "stdout",
     "output_type": "stream",
     "text": [
      "<class 'pandas.core.frame.DataFrame'>\n",
      "RangeIndex: 201 entries, 0 to 200\n",
      "Data columns (total 11 columns):\n",
      " #   Column             Non-Null Count  Dtype  \n",
      "---  ------             --------------  -----  \n",
      " 0   Country/Other      201 non-null    object \n",
      " 1   Population (2020)  201 non-null    int64  \n",
      " 2   Yearly Change      201 non-null    float64\n",
      " 3   Net Change         201 non-null    int64  \n",
      " 4   Density (P/Km²)    201 non-null    int64  \n",
      " 5   Land Area (Km²)    201 non-null    int64  \n",
      " 6   Migrants (net)     201 non-null    int64  \n",
      " 7   Fert. Rate         201 non-null    float64\n",
      " 8   Med. Age           201 non-null    int64  \n",
      " 9   Urban Pop %        194 non-null    float64\n",
      " 10  World Share        201 non-null    float64\n",
      "dtypes: float64(4), int64(6), object(1)\n",
      "memory usage: 17.4+ KB\n"
     ]
    }
   ],
   "source": [
    "#Check data types and missing values \n",
    "df_pop.info()"
   ]
  },
  {
   "cell_type": "code",
   "execution_count": null,
   "id": "6298985e-83ba-48a1-ad31-884e579b20b1",
   "metadata": {},
   "outputs": [],
   "source": [
    "#Change column names for better readability\n",
    "df_pop.rename(columns={'Country/Other': 'Counrty/region' }, inplace=True)"
   ]
  },
  {
   "cell_type": "code",
   "execution_count": 69,
   "id": "0db1e7d5-e8b8-468c-a9d6-1540c1735f11",
   "metadata": {},
   "outputs": [],
   "source": [
    "#Store cleaned data in folder to be used in Tableau Visualisation \n",
    "df_pop.to_csv(r'C:\\Users\\bronw\\OneDrive\\Desktop\\cleaned_tables\\population_cleaned.csv', index = False)"
   ]
  },
  {
   "cell_type": "code",
   "execution_count": null,
   "id": "23b39a83-d92d-479c-a7f2-2428a884c487",
   "metadata": {},
   "outputs": [],
   "source": []
  }
 ],
 "metadata": {
  "kernelspec": {
   "display_name": "Python 3 (ipykernel)",
   "language": "python",
   "name": "python3"
  },
  "language_info": {
   "codemirror_mode": {
    "name": "ipython",
    "version": 3
   },
   "file_extension": ".py",
   "mimetype": "text/x-python",
   "name": "python",
   "nbconvert_exporter": "python",
   "pygments_lexer": "ipython3",
   "version": "3.10.9"
  }
 },
 "nbformat": 4,
 "nbformat_minor": 5
}
